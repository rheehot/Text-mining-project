{
 "cells": [
  {
   "cell_type": "code",
   "execution_count": null,
   "metadata": {},
   "outputs": [],
   "source": [
    "import os\n",
    "import numpy as np\n",
    "import pandas as pd\n",
    "import glob \n",
    "import zipfile\n",
    "from bs4 import BeautifulSoup\n",
    "import re\n",
    "\n",
    "\n",
    "from konlpy.tag import Kkma\n",
    "from konlpy.utils import pprint\n",
    "from konlpy.tag import Okt"
   ]
  },
  {
   "cell_type": "code",
   "execution_count": null,
   "metadata": {},
   "outputs": [],
   "source": [
    "#파일명 추출\n",
    "data_zip = zipfile.ZipFile('data/data(2).zip')\n",
    "dataList = data_zip.namelist()"
   ]
  },
  {
   "cell_type": "code",
   "execution_count": null,
   "metadata": {},
   "outputs": [],
   "source": [
    "#데이터 불러오기\n",
    "textFile = []\n",
    "for i in range(len(dataList)):     \n",
    "\n",
    "    #파일을 순서대로 불러오기\n",
    "    f = open('data/statement{}.txt'.format(i),'r',encoding='utf-8')\n",
    "    line = f.readlines()\n",
    "    \n",
    "    #태그 없애기\n",
    "    textList = []\n",
    "    pattern = '<[^>]*>'\n",
    "    \n",
    "    line = re.sub(pattern=pattern, repl='', string=line[0])\n",
    "    textList.append(line)\n",
    "    print(textList)\n",
    "    \n",
    "    #리스트에 추가하기\n",
    "    textFile.append(textList)\n",
    "    \n",
    "    \n",
    "       "
   ]
  }
 ],
 "metadata": {
  "kernelspec": {
   "display_name": "Python 3",
   "language": "python",
   "name": "python3"
  },
  "language_info": {
   "codemirror_mode": {
    "name": "ipython",
    "version": 3
   },
   "file_extension": ".py",
   "mimetype": "text/x-python",
   "name": "python",
   "nbconvert_exporter": "python",
   "pygments_lexer": "ipython3",
   "version": "3.6.8"
  }
 },
 "nbformat": 4,
 "nbformat_minor": 2
}
